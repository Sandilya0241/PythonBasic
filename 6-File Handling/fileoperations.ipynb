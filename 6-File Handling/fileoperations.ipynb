{
 "cells": [
  {
   "cell_type": "markdown",
   "metadata": {},
   "source": [
    "## File Operation - Read and Write Files\n",
    "* File handling is a crucial part of any programming language.\n",
    "* Python provides built-in functions and methods to read from and write to files, both text and binary.\n",
    "* This section includes file handling, incuding reading and writing text files and binary files. "
   ]
  },
  {
   "cell_type": "code",
   "execution_count": 2,
   "metadata": {},
   "outputs": [
    {
     "name": "stdout",
     "output_type": "stream",
     "text": [
      "Hello, how are you?\n",
      "I'm good. Thank you.\n",
      "My name is Sandilya.\n",
      "Welcome to Robo world!!!\n"
     ]
    }
   ],
   "source": [
    "## Read the whole file\n",
    "with open('example.txt',mode='r') as file:\n",
    "    content = file.read()\n",
    "    print(content)"
   ]
  },
  {
   "cell_type": "code",
   "execution_count": 4,
   "metadata": {},
   "outputs": [
    {
     "name": "stdout",
     "output_type": "stream",
     "text": [
      "Hello, how are you?\n",
      "I'm good. Thank you.\n",
      "My name is Sandilya.\n",
      "Welcome to Robo world!!!\n"
     ]
    }
   ],
   "source": [
    "## Read file line by line\n",
    "with open('example.txt',mode='r') as file:\n",
    "    for line in file:\n",
    "        print(line.strip())"
   ]
  },
  {
   "cell_type": "code",
   "execution_count": 7,
   "metadata": {},
   "outputs": [],
   "source": [
    "## Writing a file(Overwriting)\n",
    "with open('file_write.txt',mode='w') as file:\n",
    "    file.write(\"Hello Python program\\n\")\n",
    "    file.write(\"THis is a new line\")"
   ]
  },
  {
   "cell_type": "code",
   "execution_count": 9,
   "metadata": {},
   "outputs": [],
   "source": [
    "## Writing a file(Without Overwriting)\n",
    "with open('file_write.txt',mode='a') as file:\n",
    "    file.write(\"Appeding line 3\\n\")\n",
    "    file.write(\"Appeding line 4\")"
   ]
  },
  {
   "cell_type": "code",
   "execution_count": 10,
   "metadata": {},
   "outputs": [],
   "source": [
    "### Writing list of lines to a file\n",
    "lines = [\"This is the first line\\n\",\"This is the second line\\n\",\"This is the third line\"]\n",
    "with open('example.txt','a') as file:\n",
    "    file.writelines(lines)"
   ]
  },
  {
   "cell_type": "markdown",
   "metadata": {},
   "source": [
    "### Binary Files"
   ]
  },
  {
   "cell_type": "code",
   "execution_count": 12,
   "metadata": {},
   "outputs": [],
   "source": [
    "data = b'\\x00\\x01\\x02\\x03\\x04'\n",
    "with open('example.bin',mode='wb') as file:\n",
    "    file.write(data)"
   ]
  },
  {
   "cell_type": "code",
   "execution_count": 13,
   "metadata": {},
   "outputs": [
    {
     "name": "stdout",
     "output_type": "stream",
     "text": [
      "b'\\x00\\x01\\x02\\x03\\x04'\n"
     ]
    }
   ],
   "source": [
    "\n",
    "with open('example.bin',mode='rb') as file:\n",
    "    print(file.read())"
   ]
  },
  {
   "cell_type": "code",
   "execution_count": 15,
   "metadata": {},
   "outputs": [],
   "source": [
    "## Read content from source.txt and write to destination.txt file.close\n",
    "\n",
    "with open('example.txt','r') as file_read:\n",
    "    content = file_read.read()\n",
    "\n",
    "with open('destination.txt','w') as file_write:\n",
    "    file_write.write(content)"
   ]
  },
  {
   "cell_type": "code",
   "execution_count": null,
   "metadata": {},
   "outputs": [],
   "source": [
    "## Read a text file and count the number of lines, words, charachers"
   ]
  }
 ],
 "metadata": {
  "kernelspec": {
   "display_name": "Python 3",
   "language": "python",
   "name": "python3"
  },
  "language_info": {
   "codemirror_mode": {
    "name": "ipython",
    "version": 3
   },
   "file_extension": ".py",
   "mimetype": "text/x-python",
   "name": "python",
   "nbconvert_exporter": "python",
   "pygments_lexer": "ipython3",
   "version": "3.12.0"
  }
 },
 "nbformat": 4,
 "nbformat_minor": 2
}
